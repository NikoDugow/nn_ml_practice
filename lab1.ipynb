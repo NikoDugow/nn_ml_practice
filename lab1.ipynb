{
 "cells": [
  {
   "cell_type": "code",
   "execution_count": 9,
   "metadata": {},
   "outputs": [],
   "source": [
    "int_variable = 11  # int\n",
    "assert isinstance(int_variable, int)"
   ]
  },
  {
   "cell_type": "code",
   "execution_count": 11,
   "metadata": {},
   "outputs": [],
   "source": [
    "float_variable = 1.99  # float\n",
    "assert isinstance(float_variable, float)\n",
    "\n",
    "string_variable = 'abcabc'  # string\n",
    "assert isinstance(string_variable, str)\n",
    "\n",
    "bool_variable = 10>9 # bool\n",
    "assert isinstance(bool_variable, bool)"
   ]
  },
  {
   "cell_type": "code",
   "execution_count": 14,
   "metadata": {},
   "outputs": [],
   "source": [
    "list_variable = [1, 2, 3, 4]  # list\n",
    "assert isinstance(list_variable, list)\n",
    "\n",
    "tuple_variable = (1, 2, 3, 4)  # tuple\n",
    "assert isinstance(tuple_variable, tuple)\n",
    "\n",
    "set_variable = {1, 2, 3, 4}  # set\n",
    "assert isinstance(set_variable, set)\n",
    "\n",
    "dict_variable = {1: 2, 3: 4}  # dict\n",
    "assert isinstance(dict_variable, dict)"
   ]
  },
  {
   "cell_type": "code",
   "execution_count": 15,
   "metadata": {},
   "outputs": [],
   "source": [
    "def difference_of_two_numbers(first, second):\n",
    "   \n",
    "    output = first - second\n",
    "    return output\n",
    "  \n",
    "    pass\n",
    "\n",
    "\n",
    "assert difference_of_two_numbers(2, 1) == 1\n",
    "assert difference_of_two_numbers(4, 1) == 3\n",
    "assert difference_of_two_numbers(10, 0) == 10\n",
    "assert difference_of_two_numbers(-5, -6) == 1"
   ]
  },
  {
   "cell_type": "code",
   "execution_count": 24,
   "metadata": {},
   "outputs": [],
   "source": [
    "def condition_function(input_number):\n",
    "    \n",
    "    if input_number <= 0:\n",
    "        input_number *= 2\n",
    "        return input_number\n",
    "    elif (input_number > 0 and input_number <= 10):\n",
    "        input_number *= 3\n",
    "        return input_number\n",
    "    else:\n",
    "        input_number /=10\n",
    "        return input_number\n",
    "        \n",
    "    \n",
    "    pass\n",
    "\n",
    "\n",
    "assert condition_function(0) == 0\n",
    "assert condition_function(-1) == -2\n",
    "assert condition_function(1) == 3\n",
    "assert condition_function(10) == 30\n",
    "assert condition_function(11) == 1.1\n",
    "assert condition_function(20) == 2"
   ]
  },
  {
   "cell_type": "code",
   "execution_count": 27,
   "metadata": {},
   "outputs": [],
   "source": [
    "def calculator(number_1, operation, number_2):\n",
    "  \n",
    "    if operation == '+':\n",
    "        return number_1 + number_2\n",
    "    elif operation == '-':\n",
    "        return number_1 - number_2\n",
    "    elif operation == '*':\n",
    "        return number_1 * number_2\n",
    "    elif operation == '/':\n",
    "        return number_1 / number_2\n",
    "    pass\n",
    "\n",
    "\n",
    "assert calculator(1, \"+\", 2) == 3\n",
    "assert calculator(3, \"-\", 1) == 2\n",
    "assert calculator(4, \"*\", 3) == 12\n",
    "assert calculator(2, \"/\", 2) == 1"
   ]
  },
  {
   "cell_type": "code",
   "execution_count": 30,
   "metadata": {},
   "outputs": [],
   "source": [
    "def number_of_unique_elements(input_list):\n",
    "    \n",
    "    return len(set(input_list))\n",
    "    \n",
    "    pass\n",
    "\n",
    "\n",
    "assert number_of_unique_elements([1, 2, 3]) == 3\n",
    "assert number_of_unique_elements([1] * 93) == 1\n",
    "assert number_of_unique_elements(list(range(1000))) == 1000"
   ]
  },
  {
   "cell_type": "code",
   "execution_count": 62,
   "metadata": {},
   "outputs": [],
   "source": [
    "def counter(input_list):\n",
    "    res = {}\n",
    "\n",
    "    for i in input_list:\n",
    "        res[i] = 1 if i not in res else res[i] + 1\n",
    "    return res\n",
    "    pass\n",
    "\n",
    "\n",
    "assert counter([1, 1, 1, 2, 3]) == {1: 3, 2: 1, 3: 1}\n",
    "assert counter([1] * 1000) == {1: 1000}\n",
    "assert counter([1, 3, 5] * 100) == {1: 100, 3: 100, 5: 100}"
   ]
  },
  {
   "cell_type": "code",
   "execution_count": 11,
   "metadata": {},
   "outputs": [],
   "source": [
    "def multiply_nums(input_string):\n",
    "    nums = input_string.split(',')\n",
    "    multiply = int(nums[0])\n",
    "    for x in range(1, len(nums)):\n",
    "      num = nums[x]\n",
    "      multiply *= int(num)\n",
    "    return multiply\n",
    "\n",
    "    pass\n",
    "\n",
    "\n",
    "assert multiply_nums(\"2, 3\") == 6\n",
    "assert multiply_nums(\"1, 1, 1, 1, 1, 1, 1\") == 1\n",
    "assert multiply_nums(\"345, 4576, 794, 325, 0\") == 0"
   ]
  },
  {
   "cell_type": "code",
   "execution_count": 43,
   "metadata": {},
   "outputs": [],
   "source": [
    "import math\n",
    "def custom_function(x):\n",
    "    \n",
    "    return math.sin(x) * math.cos(x)\n",
    "    pass\n",
    "\n",
    "assert round(custom_function(1), 3) == 0.455\n",
    "assert round(custom_function(1.5), 3) == 0.071\n",
    "assert round(custom_function(2), 3) == -0.378\n",
    "assert custom_function(0) == 0"
   ]
  },
  {
   "cell_type": "code",
   "execution_count": 68,
   "metadata": {},
   "outputs": [],
   "source": [
    "import math as ma\n",
    "def custom_function_1(x, n):\n",
    "    output = 1\n",
    "    while n > 0:\n",
    "        output =output * (ma.pow((n)+2, x) + ma.log(x, ma.e))/(ma.pow(x, 2) + 4*(n))\n",
    "        n-=1\n",
    "    return output\n",
    "    pass\n",
    "\n",
    "\n",
    "\n",
    "assert round(custom_function_1(2, 3), 3) == 2.707\n",
    "assert round(custom_function_1(3, 2), 3) == 8.277\n",
    "assert round(custom_function_1(3, 3), 3) == 49.7"
   ]
  },
  {
   "cell_type": "code",
   "execution_count": 12,
   "metadata": {},
   "outputs": [],
   "source": [
    "class MyList:\n",
    "    def __init__(self, MyList):\n",
    "        self.List = MyList\n",
    "        pass\n",
    "       \n",
    "    \n",
    "    def return_sum(self):\n",
    "        sum = 0\n",
    "        for i in range(len(self.List)):\n",
    "            sum = sum + self.List[i]\n",
    "        return(sum)\n",
    "        # TODO: напиши меня\n",
    "        pass\n",
    "    \n",
    "    def make_reverse(self):\n",
    "        \n",
    "        # TODO: напиши меня\n",
    "        rev_list = list(reversed(self.List))\n",
    "        return (rev_list)\n",
    "        pass\n",
    "    \n",
    "    def make_slice(self, start, stop):\n",
    "        \n",
    "        return(self.List[start:stop])\n",
    "        pass\n",
    "    \n",
    "    \n",
    "a = MyList([1, 2, 3, 4])\n",
    "assert a.return_sum() == 10\n",
    "assert a.make_reverse() == [4, 3, 2, 1]\n",
    "assert a.make_slice(0, 2) == [1, 2]\n",
    "\n",
    "b = MyList([5, 6, 6, 5])\n",
    "assert b.return_sum() == 22\n",
    "assert b.make_reverse() == [5, 6, 6, 5]\n",
    "assert b.make_slice(1, 2) == [6]"
   ]
  },
  {
   "cell_type": "code",
   "execution_count": null,
   "metadata": {},
   "outputs": [],
   "source": []
  }
 ],
 "metadata": {
  "kernelspec": {
   "display_name": "Python 3",
   "language": "python",
   "name": "python3"
  },
  "language_info": {
   "codemirror_mode": {
    "name": "ipython",
    "version": 3
   },
   "file_extension": ".py",
   "mimetype": "text/x-python",
   "name": "python",
   "nbconvert_exporter": "python",
   "pygments_lexer": "ipython3",
   "version": "3.7.6"
  }
 },
 "nbformat": 4,
 "nbformat_minor": 4
}
